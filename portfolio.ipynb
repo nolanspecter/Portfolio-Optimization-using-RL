{
 "cells": [
  {
   "cell_type": "code",
   "execution_count": 1,
   "metadata": {},
   "outputs": [],
   "source": [
    "import pandas as pd\n",
    "import numpy as np\n",
    "import matplotlib.pyplot as plt\n",
    "import conf\n",
    "import tensorflow as tf\n",
    "import ta\n",
    "import os\n",
    "import gymnasium as gym\n",
    "\n",
    "from util import preprocessing\n",
    "# from port_env import StockPortfolioEnv\n",
    "from port_env import StockPortfolioEnv\n",
    "from finrl.meta.preprocessor.preprocessors import FeatureEngineer\n",
    "from finrl.agents.stablebaselines3.models import DRLAgent\n",
    "from stable_baselines3 import PPO, DDPG\n",
    "from stable_baselines3.common.noise import NormalActionNoise, OrnsteinUhlenbeckActionNoise\n"
   ]
  },
  {
   "cell_type": "code",
   "execution_count": 2,
   "metadata": {},
   "outputs": [],
   "source": [
    "models_dir = './models/DDPG'\n",
    "\n",
    "if not os.path.exists(models_dir):\n",
    "    os.makedirs(models_dir)\n"
   ]
  },
  {
   "cell_type": "code",
   "execution_count": 3,
   "metadata": {},
   "outputs": [
    {
     "name": "stdout",
     "output_type": "stream",
     "text": [
      "Successfully added technical indicators\n"
     ]
    }
   ],
   "source": [
    "df = pd.read_csv('raw_data.csv', index_col=0)\n",
    "fe = FeatureEngineer(tech_indicator_list=conf.TA_LIST)\n",
    "\n",
    "df = fe.preprocess_data(df)\n",
    "df = df.sort_values(['date', 'ticker']).reset_index(drop=True)\n",
    "df.index = df.date.factorize()[0]"
   ]
  },
  {
   "cell_type": "markdown",
   "metadata": {},
   "source": []
  },
  {
   "cell_type": "code",
   "execution_count": 4,
   "metadata": {},
   "outputs": [
    {
     "data": {
      "text/html": [
       "<div>\n",
       "<style scoped>\n",
       "    .dataframe tbody tr th:only-of-type {\n",
       "        vertical-align: middle;\n",
       "    }\n",
       "\n",
       "    .dataframe tbody tr th {\n",
       "        vertical-align: top;\n",
       "    }\n",
       "\n",
       "    .dataframe thead th {\n",
       "        text-align: right;\n",
       "    }\n",
       "</style>\n",
       "<table border=\"1\" class=\"dataframe\">\n",
       "  <thead>\n",
       "    <tr style=\"text-align: right;\">\n",
       "      <th></th>\n",
       "      <th>date</th>\n",
       "      <th>ticker</th>\n",
       "      <th>open</th>\n",
       "      <th>high</th>\n",
       "      <th>low</th>\n",
       "      <th>close</th>\n",
       "      <th>volume</th>\n",
       "      <th>day</th>\n",
       "      <th>rsi</th>\n",
       "      <th>macd</th>\n",
       "      <th>cci</th>\n",
       "      <th>atr</th>\n",
       "      <th>adx</th>\n",
       "      <th>sma</th>\n",
       "      <th>ema</th>\n",
       "      <th>obv</th>\n",
       "      <th>cov_list</th>\n",
       "    </tr>\n",
       "  </thead>\n",
       "  <tbody>\n",
       "    <tr>\n",
       "      <th>0</th>\n",
       "      <td>2005-08-18</td>\n",
       "      <td>AAPL</td>\n",
       "      <td>1.675357</td>\n",
       "      <td>1.678571</td>\n",
       "      <td>1.633929</td>\n",
       "      <td>1.405441</td>\n",
       "      <td>442559600</td>\n",
       "      <td>3</td>\n",
       "      <td>63.799914</td>\n",
       "      <td>0.047677</td>\n",
       "      <td>85.670255</td>\n",
       "      <td>0.256897</td>\n",
       "      <td>55.175735</td>\n",
       "      <td>1.373838</td>\n",
       "      <td>1.383495</td>\n",
       "      <td>47468520400</td>\n",
       "      <td>[[0.0006722603314515664, 0.0001167478716148638...</td>\n",
       "    </tr>\n",
       "    <tr>\n",
       "      <th>0</th>\n",
       "      <td>2005-08-18</td>\n",
       "      <td>AMZN</td>\n",
       "      <td>2.194000</td>\n",
       "      <td>2.195000</td>\n",
       "      <td>2.175500</td>\n",
       "      <td>2.186500</td>\n",
       "      <td>72086000</td>\n",
       "      <td>3</td>\n",
       "      <td>57.417249</td>\n",
       "      <td>0.083574</td>\n",
       "      <td>-154.579068</td>\n",
       "      <td>0.053844</td>\n",
       "      <td>30.145655</td>\n",
       "      <td>2.238444</td>\n",
       "      <td>2.219884</td>\n",
       "      <td>877646000</td>\n",
       "      <td>[[0.0006722603314515664, 0.0001167478716148638...</td>\n",
       "    </tr>\n",
       "    <tr>\n",
       "      <th>0</th>\n",
       "      <td>2005-08-18</td>\n",
       "      <td>BRK-B</td>\n",
       "      <td>55.220001</td>\n",
       "      <td>56.740002</td>\n",
       "      <td>55.180000</td>\n",
       "      <td>56.740002</td>\n",
       "      <td>1575000</td>\n",
       "      <td>3</td>\n",
       "      <td>62.346187</td>\n",
       "      <td>-0.007621</td>\n",
       "      <td>220.191877</td>\n",
       "      <td>0.512400</td>\n",
       "      <td>26.257157</td>\n",
       "      <td>55.661111</td>\n",
       "      <td>55.781312</td>\n",
       "      <td>-3875000</td>\n",
       "      <td>[[0.0006722603314515664, 0.0001167478716148638...</td>\n",
       "    </tr>\n",
       "    <tr>\n",
       "      <th>0</th>\n",
       "      <td>2005-08-18</td>\n",
       "      <td>GOOG</td>\n",
       "      <td>6.871992</td>\n",
       "      <td>6.986314</td>\n",
       "      <td>6.849327</td>\n",
       "      <td>6.973611</td>\n",
       "      <td>476692087</td>\n",
       "      <td>3</td>\n",
       "      <td>38.838952</td>\n",
       "      <td>-0.066002</td>\n",
       "      <td>-159.592001</td>\n",
       "      <td>0.166249</td>\n",
       "      <td>28.235001</td>\n",
       "      <td>7.131630</td>\n",
       "      <td>7.130944</td>\n",
       "      <td>22021485703</td>\n",
       "      <td>[[0.0006722603314515664, 0.0001167478716148638...</td>\n",
       "    </tr>\n",
       "    <tr>\n",
       "      <th>0</th>\n",
       "      <td>2005-08-18</td>\n",
       "      <td>LIN</td>\n",
       "      <td>50.169998</td>\n",
       "      <td>50.540001</td>\n",
       "      <td>49.919998</td>\n",
       "      <td>35.377659</td>\n",
       "      <td>777700</td>\n",
       "      <td>3</td>\n",
       "      <td>55.669487</td>\n",
       "      <td>0.501420</td>\n",
       "      <td>-112.128744</td>\n",
       "      <td>15.303905</td>\n",
       "      <td>27.147617</td>\n",
       "      <td>35.679061</td>\n",
       "      <td>35.531792</td>\n",
       "      <td>19438900</td>\n",
       "      <td>[[0.0006722603314515664, 0.0001167478716148638...</td>\n",
       "    </tr>\n",
       "  </tbody>\n",
       "</table>\n",
       "</div>"
      ],
      "text/plain": [
       "         date ticker       open       high        low      close     volume  \\\n",
       "0  2005-08-18   AAPL   1.675357   1.678571   1.633929   1.405441  442559600   \n",
       "0  2005-08-18   AMZN   2.194000   2.195000   2.175500   2.186500   72086000   \n",
       "0  2005-08-18  BRK-B  55.220001  56.740002  55.180000  56.740002    1575000   \n",
       "0  2005-08-18   GOOG   6.871992   6.986314   6.849327   6.973611  476692087   \n",
       "0  2005-08-18    LIN  50.169998  50.540001  49.919998  35.377659     777700   \n",
       "\n",
       "   day        rsi      macd         cci        atr        adx        sma  \\\n",
       "0    3  63.799914  0.047677   85.670255   0.256897  55.175735   1.373838   \n",
       "0    3  57.417249  0.083574 -154.579068   0.053844  30.145655   2.238444   \n",
       "0    3  62.346187 -0.007621  220.191877   0.512400  26.257157  55.661111   \n",
       "0    3  38.838952 -0.066002 -159.592001   0.166249  28.235001   7.131630   \n",
       "0    3  55.669487  0.501420 -112.128744  15.303905  27.147617  35.679061   \n",
       "\n",
       "         ema          obv                                           cov_list  \n",
       "0   1.383495  47468520400  [[0.0006722603314515664, 0.0001167478716148638...  \n",
       "0   2.219884    877646000  [[0.0006722603314515664, 0.0001167478716148638...  \n",
       "0  55.781312     -3875000  [[0.0006722603314515664, 0.0001167478716148638...  \n",
       "0   7.130944  22021485703  [[0.0006722603314515664, 0.0001167478716148638...  \n",
       "0  35.531792     19438900  [[0.0006722603314515664, 0.0001167478716148638...  "
      ]
     },
     "execution_count": 4,
     "metadata": {},
     "output_type": "execute_result"
    }
   ],
   "source": [
    "df = preprocessing(df)\n",
    "df.head()"
   ]
  },
  {
   "cell_type": "code",
   "execution_count": 5,
   "metadata": {},
   "outputs": [
    {
     "data": {
      "text/html": [
       "<div>\n",
       "<style scoped>\n",
       "    .dataframe tbody tr th:only-of-type {\n",
       "        vertical-align: middle;\n",
       "    }\n",
       "\n",
       "    .dataframe tbody tr th {\n",
       "        vertical-align: top;\n",
       "    }\n",
       "\n",
       "    .dataframe thead th {\n",
       "        text-align: right;\n",
       "    }\n",
       "</style>\n",
       "<table border=\"1\" class=\"dataframe\">\n",
       "  <thead>\n",
       "    <tr style=\"text-align: right;\">\n",
       "      <th></th>\n",
       "      <th>date</th>\n",
       "      <th>ticker</th>\n",
       "      <th>open</th>\n",
       "      <th>high</th>\n",
       "      <th>low</th>\n",
       "      <th>close</th>\n",
       "      <th>volume</th>\n",
       "      <th>day</th>\n",
       "      <th>rsi</th>\n",
       "      <th>macd</th>\n",
       "      <th>cci</th>\n",
       "      <th>atr</th>\n",
       "      <th>adx</th>\n",
       "      <th>sma</th>\n",
       "      <th>ema</th>\n",
       "      <th>obv</th>\n",
       "      <th>cov_list</th>\n",
       "    </tr>\n",
       "  </thead>\n",
       "  <tbody>\n",
       "    <tr>\n",
       "      <th>4121</th>\n",
       "      <td>2021-12-31</td>\n",
       "      <td>PLD</td>\n",
       "      <td>168.080002</td>\n",
       "      <td>169.929993</td>\n",
       "      <td>167.589996</td>\n",
       "      <td>161.802979</td>\n",
       "      <td>2025800</td>\n",
       "      <td>4</td>\n",
       "      <td>73.701749</td>\n",
       "      <td>4.136156</td>\n",
       "      <td>143.422663</td>\n",
       "      <td>8.306851</td>\n",
       "      <td>72.493913</td>\n",
       "      <td>158.240665</td>\n",
       "      <td>158.841934</td>\n",
       "      <td>662622500</td>\n",
       "      <td>[[0.0002500422544913469, 0.0001426201684324260...</td>\n",
       "    </tr>\n",
       "    <tr>\n",
       "      <th>4121</th>\n",
       "      <td>2021-12-31</td>\n",
       "      <td>UNH</td>\n",
       "      <td>504.140015</td>\n",
       "      <td>506.869995</td>\n",
       "      <td>502.040009</td>\n",
       "      <td>492.011261</td>\n",
       "      <td>1695400</td>\n",
       "      <td>4</td>\n",
       "      <td>71.079685</td>\n",
       "      <td>13.130330</td>\n",
       "      <td>92.259027</td>\n",
       "      <td>14.848088</td>\n",
       "      <td>49.867024</td>\n",
       "      <td>487.197005</td>\n",
       "      <td>487.622803</td>\n",
       "      <td>526127700</td>\n",
       "      <td>[[0.0002500422544913469, 0.0001426201684324260...</td>\n",
       "    </tr>\n",
       "    <tr>\n",
       "      <th>4121</th>\n",
       "      <td>2021-12-31</td>\n",
       "      <td>UPS</td>\n",
       "      <td>213.139999</td>\n",
       "      <td>215.419998</td>\n",
       "      <td>211.740005</td>\n",
       "      <td>203.705185</td>\n",
       "      <td>1579900</td>\n",
       "      <td>4</td>\n",
       "      <td>60.991196</td>\n",
       "      <td>2.445468</td>\n",
       "      <td>74.903041</td>\n",
       "      <td>12.968804</td>\n",
       "      <td>23.651654</td>\n",
       "      <td>200.931101</td>\n",
       "      <td>201.585801</td>\n",
       "      <td>77726400</td>\n",
       "      <td>[[0.0002500422544913469, 0.0001426201684324260...</td>\n",
       "    </tr>\n",
       "    <tr>\n",
       "      <th>4121</th>\n",
       "      <td>2021-12-31</td>\n",
       "      <td>WMT</td>\n",
       "      <td>143.199997</td>\n",
       "      <td>145.039993</td>\n",
       "      <td>142.919998</td>\n",
       "      <td>141.332428</td>\n",
       "      <td>5982600</td>\n",
       "      <td>4</td>\n",
       "      <td>58.173470</td>\n",
       "      <td>0.109066</td>\n",
       "      <td>81.717659</td>\n",
       "      <td>4.720047</td>\n",
       "      <td>25.538503</td>\n",
       "      <td>138.077520</td>\n",
       "      <td>138.958407</td>\n",
       "      <td>823897400</td>\n",
       "      <td>[[0.0002500422544913469, 0.0001426201684324260...</td>\n",
       "    </tr>\n",
       "    <tr>\n",
       "      <th>4121</th>\n",
       "      <td>2021-12-31</td>\n",
       "      <td>XOM</td>\n",
       "      <td>60.740002</td>\n",
       "      <td>61.470001</td>\n",
       "      <td>60.700001</td>\n",
       "      <td>57.903332</td>\n",
       "      <td>14072000</td>\n",
       "      <td>4</td>\n",
       "      <td>48.402421</td>\n",
       "      <td>-0.253682</td>\n",
       "      <td>10.593743</td>\n",
       "      <td>3.956968</td>\n",
       "      <td>13.886770</td>\n",
       "      <td>57.658350</td>\n",
       "      <td>57.852850</td>\n",
       "      <td>-116963500</td>\n",
       "      <td>[[0.0002500422544913469, 0.0001426201684324260...</td>\n",
       "    </tr>\n",
       "  </tbody>\n",
       "</table>\n",
       "</div>"
      ],
      "text/plain": [
       "            date ticker        open        high         low       close  \\\n",
       "4121  2021-12-31    PLD  168.080002  169.929993  167.589996  161.802979   \n",
       "4121  2021-12-31    UNH  504.140015  506.869995  502.040009  492.011261   \n",
       "4121  2021-12-31    UPS  213.139999  215.419998  211.740005  203.705185   \n",
       "4121  2021-12-31    WMT  143.199997  145.039993  142.919998  141.332428   \n",
       "4121  2021-12-31    XOM   60.740002   61.470001   60.700001   57.903332   \n",
       "\n",
       "        volume  day        rsi       macd         cci        atr        adx  \\\n",
       "4121   2025800    4  73.701749   4.136156  143.422663   8.306851  72.493913   \n",
       "4121   1695400    4  71.079685  13.130330   92.259027  14.848088  49.867024   \n",
       "4121   1579900    4  60.991196   2.445468   74.903041  12.968804  23.651654   \n",
       "4121   5982600    4  58.173470   0.109066   81.717659   4.720047  25.538503   \n",
       "4121  14072000    4  48.402421  -0.253682   10.593743   3.956968  13.886770   \n",
       "\n",
       "             sma         ema        obv  \\\n",
       "4121  158.240665  158.841934  662622500   \n",
       "4121  487.197005  487.622803  526127700   \n",
       "4121  200.931101  201.585801   77726400   \n",
       "4121  138.077520  138.958407  823897400   \n",
       "4121   57.658350   57.852850 -116963500   \n",
       "\n",
       "                                               cov_list  \n",
       "4121  [[0.0002500422544913469, 0.0001426201684324260...  \n",
       "4121  [[0.0002500422544913469, 0.0001426201684324260...  \n",
       "4121  [[0.0002500422544913469, 0.0001426201684324260...  \n",
       "4121  [[0.0002500422544913469, 0.0001426201684324260...  \n",
       "4121  [[0.0002500422544913469, 0.0001426201684324260...  "
      ]
     },
     "execution_count": 5,
     "metadata": {},
     "output_type": "execute_result"
    }
   ],
   "source": [
    "df_train = df[df['date'] < '2022-01-01']\n",
    "df_train.tail()"
   ]
  },
  {
   "cell_type": "code",
   "execution_count": 6,
   "metadata": {},
   "outputs": [
    {
     "data": {
      "text/html": [
       "<div>\n",
       "<style scoped>\n",
       "    .dataframe tbody tr th:only-of-type {\n",
       "        vertical-align: middle;\n",
       "    }\n",
       "\n",
       "    .dataframe tbody tr th {\n",
       "        vertical-align: top;\n",
       "    }\n",
       "\n",
       "    .dataframe thead th {\n",
       "        text-align: right;\n",
       "    }\n",
       "</style>\n",
       "<table border=\"1\" class=\"dataframe\">\n",
       "  <thead>\n",
       "    <tr style=\"text-align: right;\">\n",
       "      <th></th>\n",
       "      <th>date</th>\n",
       "      <th>ticker</th>\n",
       "      <th>open</th>\n",
       "      <th>high</th>\n",
       "      <th>low</th>\n",
       "      <th>close</th>\n",
       "      <th>volume</th>\n",
       "      <th>day</th>\n",
       "      <th>rsi</th>\n",
       "      <th>macd</th>\n",
       "      <th>cci</th>\n",
       "      <th>atr</th>\n",
       "      <th>adx</th>\n",
       "      <th>sma</th>\n",
       "      <th>ema</th>\n",
       "      <th>obv</th>\n",
       "      <th>cov_list</th>\n",
       "    </tr>\n",
       "  </thead>\n",
       "  <tbody>\n",
       "    <tr>\n",
       "      <th>4122</th>\n",
       "      <td>2022-01-03</td>\n",
       "      <td>AAPL</td>\n",
       "      <td>177.830002</td>\n",
       "      <td>182.880005</td>\n",
       "      <td>177.710007</td>\n",
       "      <td>180.434296</td>\n",
       "      <td>104487900</td>\n",
       "      <td>0</td>\n",
       "      <td>66.613017</td>\n",
       "      <td>4.786703</td>\n",
       "      <td>108.693392</td>\n",
       "      <td>4.646072</td>\n",
       "      <td>52.559252</td>\n",
       "      <td>176.424871</td>\n",
       "      <td>176.474275</td>\n",
       "      <td>98167543400</td>\n",
       "      <td>[[0.0002495422734495149, 0.0001423948493936616...</td>\n",
       "    </tr>\n",
       "    <tr>\n",
       "      <th>4122</th>\n",
       "      <td>2022-01-03</td>\n",
       "      <td>AMZN</td>\n",
       "      <td>167.550003</td>\n",
       "      <td>170.703506</td>\n",
       "      <td>166.160507</td>\n",
       "      <td>170.404495</td>\n",
       "      <td>63520000</td>\n",
       "      <td>0</td>\n",
       "      <td>48.622296</td>\n",
       "      <td>-1.231128</td>\n",
       "      <td>-24.193272</td>\n",
       "      <td>4.074268</td>\n",
       "      <td>8.949928</td>\n",
       "      <td>169.757777</td>\n",
       "      <td>169.523506</td>\n",
       "      <td>22915150000</td>\n",
       "      <td>[[0.0002495422734495149, 0.0001423948493936616...</td>\n",
       "    </tr>\n",
       "    <tr>\n",
       "      <th>4122</th>\n",
       "      <td>2022-01-03</td>\n",
       "      <td>BRK-B</td>\n",
       "      <td>300.100006</td>\n",
       "      <td>301.299988</td>\n",
       "      <td>299.200012</td>\n",
       "      <td>300.790009</td>\n",
       "      <td>3570300</td>\n",
       "      <td>0</td>\n",
       "      <td>64.875653</td>\n",
       "      <td>3.962497</td>\n",
       "      <td>98.739398</td>\n",
       "      <td>3.821770</td>\n",
       "      <td>46.006927</td>\n",
       "      <td>297.370002</td>\n",
       "      <td>297.621625</td>\n",
       "      <td>812310700</td>\n",
       "      <td>[[0.0002495422734495149, 0.0001423948493936616...</td>\n",
       "    </tr>\n",
       "    <tr>\n",
       "      <th>4122</th>\n",
       "      <td>2022-01-03</td>\n",
       "      <td>GOOG</td>\n",
       "      <td>144.475494</td>\n",
       "      <td>145.550003</td>\n",
       "      <td>143.502502</td>\n",
       "      <td>145.074493</td>\n",
       "      <td>25214000</td>\n",
       "      <td>0</td>\n",
       "      <td>48.010599</td>\n",
       "      <td>-0.013619</td>\n",
       "      <td>-31.961908</td>\n",
       "      <td>2.632496</td>\n",
       "      <td>13.160649</td>\n",
       "      <td>146.120556</td>\n",
       "      <td>145.720813</td>\n",
       "      <td>27601502767</td>\n",
       "      <td>[[0.0002495422734495149, 0.0001423948493936616...</td>\n",
       "    </tr>\n",
       "    <tr>\n",
       "      <th>4122</th>\n",
       "      <td>2022-01-03</td>\n",
       "      <td>LIN</td>\n",
       "      <td>346.420013</td>\n",
       "      <td>346.589996</td>\n",
       "      <td>338.359985</td>\n",
       "      <td>331.055450</td>\n",
       "      <td>1514700</td>\n",
       "      <td>0</td>\n",
       "      <td>54.535226</td>\n",
       "      <td>4.353743</td>\n",
       "      <td>32.659128</td>\n",
       "      <td>10.067444</td>\n",
       "      <td>29.349115</td>\n",
       "      <td>333.408234</td>\n",
       "      <td>333.403141</td>\n",
       "      <td>153556000</td>\n",
       "      <td>[[0.0002495422734495149, 0.0001423948493936616...</td>\n",
       "    </tr>\n",
       "  </tbody>\n",
       "</table>\n",
       "</div>"
      ],
      "text/plain": [
       "            date ticker        open        high         low       close  \\\n",
       "4122  2022-01-03   AAPL  177.830002  182.880005  177.710007  180.434296   \n",
       "4122  2022-01-03   AMZN  167.550003  170.703506  166.160507  170.404495   \n",
       "4122  2022-01-03  BRK-B  300.100006  301.299988  299.200012  300.790009   \n",
       "4122  2022-01-03   GOOG  144.475494  145.550003  143.502502  145.074493   \n",
       "4122  2022-01-03    LIN  346.420013  346.589996  338.359985  331.055450   \n",
       "\n",
       "         volume  day        rsi      macd         cci        atr        adx  \\\n",
       "4122  104487900    0  66.613017  4.786703  108.693392   4.646072  52.559252   \n",
       "4122   63520000    0  48.622296 -1.231128  -24.193272   4.074268   8.949928   \n",
       "4122    3570300    0  64.875653  3.962497   98.739398   3.821770  46.006927   \n",
       "4122   25214000    0  48.010599 -0.013619  -31.961908   2.632496  13.160649   \n",
       "4122    1514700    0  54.535226  4.353743   32.659128  10.067444  29.349115   \n",
       "\n",
       "             sma         ema          obv  \\\n",
       "4122  176.424871  176.474275  98167543400   \n",
       "4122  169.757777  169.523506  22915150000   \n",
       "4122  297.370002  297.621625    812310700   \n",
       "4122  146.120556  145.720813  27601502767   \n",
       "4122  333.408234  333.403141    153556000   \n",
       "\n",
       "                                               cov_list  \n",
       "4122  [[0.0002495422734495149, 0.0001423948493936616...  \n",
       "4122  [[0.0002495422734495149, 0.0001423948493936616...  \n",
       "4122  [[0.0002495422734495149, 0.0001423948493936616...  \n",
       "4122  [[0.0002495422734495149, 0.0001423948493936616...  \n",
       "4122  [[0.0002495422734495149, 0.0001423948493936616...  "
      ]
     },
     "execution_count": 6,
     "metadata": {},
     "output_type": "execute_result"
    }
   ],
   "source": [
    "df_test = df[df['date'] >= '2022-01-01']\n",
    "df_test.head()"
   ]
  },
  {
   "cell_type": "code",
   "execution_count": 7,
   "metadata": {},
   "outputs": [],
   "source": [
    "stock_dim = len(conf.TICKERS)"
   ]
  },
  {
   "cell_type": "code",
   "execution_count": 8,
   "metadata": {},
   "outputs": [],
   "source": [
    "env_kwargs = {\n",
    "    'share_max': 5000,\n",
    "    'initial_amount': 1000,\n",
    "    'transaction_cost_pct': 0,\n",
    "    'state_space': stock_dim,\n",
    "    'action_space': stock_dim,\n",
    "    'stock_dim': stock_dim,\n",
    "    'tech_indicator_list': conf.TA_LIST,\n",
    "    'reward_scaling': 0,\n",
    "    'initial_weights': [1/stock_dim] * stock_dim\n",
    "}"
   ]
  },
  {
   "cell_type": "code",
   "execution_count": 9,
   "metadata": {},
   "outputs": [
    {
     "name": "stderr",
     "output_type": "stream",
     "text": [
      "c:\\Users\\nolan\\AppData\\Local\\Programs\\Python\\Python310\\lib\\site-packages\\stable_baselines3\\common\\vec_env\\patch_gym.py:49: UserWarning: You provided an OpenAI Gym environment. We strongly recommend transitioning to Gymnasium environments. Stable-Baselines3 is automatically wrapping your environments in a compatibility layer, which could potentially cause issues.\n",
      "  warnings.warn(\n"
     ]
    },
    {
     "data": {
      "text/plain": [
       "stable_baselines3.common.vec_env.dummy_vec_env.DummyVecEnv"
      ]
     },
     "execution_count": 9,
     "metadata": {},
     "output_type": "execute_result"
    }
   ],
   "source": [
    "train_env = StockPortfolioEnv(df = df_train, **env_kwargs)\n",
    "env_train, _ = train_env.get_sb_env()\n",
    "type(env_train)\n",
    "# agent = A2C(policy='MlpPolicy',\n",
    "#             env=env,\n",
    "#             learning_rate=0.0003,\n",
    "#             gamma=1,\n",
    "#             n_steps=1,\n",
    "#             ent_coef=0.005,\n",
    "#             verbose=1)\n"
   ]
  },
  {
   "cell_type": "markdown",
   "metadata": {},
   "source": [
    "# PPO"
   ]
  },
  {
   "cell_type": "code",
   "execution_count": 12,
   "metadata": {},
   "outputs": [
    {
     "name": "stdout",
     "output_type": "stream",
     "text": [
      "{'buffer_size': 100000, 'batch_size': 1024}\n",
      "Using cpu device\n"
     ]
    }
   ],
   "source": [
    "# agent = PPO(\"MlpPolicy\",\n",
    "#             env=env,\n",
    "#             learning_rate=0.0003,\n",
    "#             n_steps=1024,\n",
    "#             ent_coef=0.005,\n",
    "#             batch_size=1024,\n",
    "#             verbose=1)\n",
    "\n",
    "agent = DRLAgent(env=env_train)\n",
    "\n",
    "model_param = {\"n_steps\": 1024,\n",
    "                \"ent_coef\": 0.005,\n",
    "                \"learning_rate\": 0.0003,\n",
    "                \"batch_size\": 1024,\n",
    "                }\n",
    "model = agent.get_model('ppo', model_kwargs=model_param)"
   ]
  },
  {
   "cell_type": "code",
   "execution_count": null,
   "metadata": {},
   "outputs": [],
   "source": [
    "for i in range(1, 100000):\n",
    "    train_ppo = agent.train_model(model=model,\n",
    "                                  total_timesteps=conf.EPISODE_LENGTH,\n",
    "                                  tb_log_name=\"PPO\",\n",
    "                                  reset_num_timesteps=False)\n",
    "    if i % 10000 == 0:\n",
    "        model.save(f'{models_dir}/timestep_{2048*i}')"
   ]
  },
  {
   "cell_type": "code",
   "execution_count": 33,
   "metadata": {},
   "outputs": [],
   "source": [
    "model.save(f'{models_dir}/finished_training')"
   ]
  },
  {
   "cell_type": "code",
   "execution_count": null,
   "metadata": {},
   "outputs": [],
   "source": [
    "test_env = StockPortfolioEnv(raw_df = df_test, **env_kwargs)"
   ]
  },
  {
   "cell_type": "code",
   "execution_count": null,
   "metadata": {},
   "outputs": [],
   "source": [
    "loaded_model = model.load('./models/PPO/finished_training.zip')"
   ]
  },
  {
   "cell_type": "code",
   "execution_count": null,
   "metadata": {},
   "outputs": [
    {
     "name": "stdout",
     "output_type": "stream",
     "text": [
      "=================================\n",
      "begin_total_asset:1000\n",
      "end_total_asset:1270.1574433117278\n",
      "Sharpe:  2.795917258178576\n",
      "=================================\n"
     ]
    },
    {
     "name": "stderr",
     "output_type": "stream",
     "text": [
      "c:\\Users\\nolan\\AppData\\Local\\Programs\\Python\\Python310\\lib\\site-packages\\stable_baselines3\\common\\vec_env\\patch_gym.py:49: UserWarning: You provided an OpenAI Gym environment. We strongly recommend transitioning to Gymnasium environments. Stable-Baselines3 is automatically wrapping your environments in a compatibility layer, which could potentially cause issues.\n",
      "  warnings.warn(\n"
     ]
    }
   ],
   "source": [
    "daily_return, weights = agent.DRL_prediction(loaded_model, test_env)"
   ]
  },
  {
   "cell_type": "markdown",
   "metadata": {},
   "source": [
    "# A2C"
   ]
  },
  {
   "cell_type": "code",
   "execution_count": 10,
   "metadata": {},
   "outputs": [
    {
     "name": "stdout",
     "output_type": "stream",
     "text": [
      "{'n_steps': 5, 'ent_coef': 0.005, 'learning_rate': 0.001}\n",
      "Using cpu device\n"
     ]
    }
   ],
   "source": [
    "agent = DRLAgent(env=env_train)\n",
    "\n",
    "model_param = {\"n_steps\": 5, \"ent_coef\": 0.005, \"learning_rate\": 0.001}\n",
    "model = agent.get_model('a2c', model_kwargs=model_param)"
   ]
  },
  {
   "cell_type": "code",
   "execution_count": 11,
   "metadata": {},
   "outputs": [],
   "source": [
    "model = model.load('./models/A2C/timestep_90000.zip')\n",
    "model.set_env(env_train)"
   ]
  },
  {
   "cell_type": "code",
   "execution_count": null,
   "metadata": {},
   "outputs": [],
   "source": [
    "for i in range(90001, 100000):\n",
    "    train_a2c = agent.train_model(model=model,\n",
    "                                  total_timesteps=conf.EPISODE_LENGTH,\n",
    "                                  tb_log_name=\"A2C\",\n",
    "                                  reset_num_timesteps=False)\n",
    "    if i % 10000 == 0:\n",
    "        model.save(f'{models_dir}/timestep_{i}')"
   ]
  },
  {
   "cell_type": "code",
   "execution_count": 13,
   "metadata": {},
   "outputs": [],
   "source": [
    "model.save(f'{models_dir}/finished_training')"
   ]
  },
  {
   "cell_type": "markdown",
   "metadata": {},
   "source": [
    "# DDPG\n"
   ]
  },
  {
   "cell_type": "code",
   "execution_count": 16,
   "metadata": {},
   "outputs": [
    {
     "name": "stdout",
     "output_type": "stream",
     "text": [
      "{'batch_size': 1024}\n",
      "Using cpu device\n"
     ]
    }
   ],
   "source": [
    "agent = DRLAgent(env=env_train)\n",
    "\n",
    "model_param = {\"batch_size\": 1024}\n",
    "model = agent.get_model('ddpg', model_kwargs=model_param)"
   ]
  },
  {
   "cell_type": "code",
   "execution_count": null,
   "metadata": {},
   "outputs": [],
   "source": [
    "for i in range(0, 100000):\n",
    "    train_ddpg = agent.train_model(model=model,\n",
    "                                  total_timesteps=conf.EPISODE_LENGTH,\n",
    "                                  tb_log_name=\"DDPG\",\n",
    "                                  reset_num_timesteps=False)\n",
    "    if i % 10000 == 0:\n",
    "        model.save(f'{models_dir}/timestep_{i}')"
   ]
  },
  {
   "cell_type": "code",
   "execution_count": null,
   "metadata": {},
   "outputs": [],
   "source": [
    "model.save(f'{models_dir}/finished_training')"
   ]
  },
  {
   "cell_type": "code",
   "execution_count": null,
   "metadata": {},
   "outputs": [],
   "source": []
  }
 ],
 "metadata": {
  "kernelspec": {
   "display_name": "Python 3",
   "language": "python",
   "name": "python3"
  },
  "language_info": {
   "codemirror_mode": {
    "name": "ipython",
    "version": 3
   },
   "file_extension": ".py",
   "mimetype": "text/x-python",
   "name": "python",
   "nbconvert_exporter": "python",
   "pygments_lexer": "ipython3",
   "version": "3.10.11"
  },
  "orig_nbformat": 4
 },
 "nbformat": 4,
 "nbformat_minor": 2
}
