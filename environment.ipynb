{
 "cells": [
  {
   "cell_type": "code",
   "execution_count": 65,
   "metadata": {},
   "outputs": [],
   "source": [
    "import pandas as pd\n",
    "import numpy as np\n",
    "import tensorflow as tf\n",
    "\n",
    "\n",
    "from tf_agents.environments import py_environment\n",
    "from tf_agents.environments import tf_environment\n",
    "from tf_agents.environments import tf_py_environment\n",
    "from tf_agents.specs import array_spec\n",
    "from tf_agents.trajectories import time_step as ts\n",
    "from sklearn.preprocessing import StandardScaler"
   ]
  },
  {
   "cell_type": "code",
   "execution_count": null,
   "metadata": {},
   "outputs": [],
   "source": [
    "stocks = []\n",
    "num_of_feat = stocks.shape[1]\n",
    "filepath = ''"
   ]
  },
  {
   "cell_type": "code",
   "execution_count": 66,
   "metadata": {},
   "outputs": [],
   "source": [
    "\n",
    "class PortfolioEnv(py_environment.PyEnvironment):\n",
    "    def __init__(self):\n",
    "        # Action: Portfolio ratio in stocks and cash\n",
    "        self._action_spec = array_spec.BoundedArraySpec(shape=(len(stocks)+1), \n",
    "                                                       min=0, \n",
    "                                                       max=1, \n",
    "                                                       dtype=np.float32, \n",
    "                                                       name='action')\n",
    "        self._observation_spec = array_spec.ArraySpec(shape=(number_of_feat),\n",
    "                                                     dtype=np.float32)\n",
    "        self.reset()\n",
    "        self._episode_ended = False\n",
    "    \n",
    "    def get_action_spec(self):\n",
    "        return self._action_spec\n",
    "    \n",
    "    def get_observation_spec(self):\n",
    "        return self._observation_spec\n",
    "\n",
    "    def _reset(self):\n",
    "        # Start new episode\n",
    "        self._eposode_ended = False\n",
    "        self.index = 0\n",
    "\n",
    "        # Set timeframe: 1D\n",
    "        self.timeframe = pd.Timedelta(1, unit='d')\n",
    "        \n",
    "        # Set starting capital and value\n",
    "        self.capital = 1000\n",
    "        self.cash = self.capital\n",
    "        self.portfolio_value = self.capital\n",
    "\n",
    "        # NEED COMMENT\n",
    "        self.previous_price = {}\n",
    "        self.old_dict_stock_price_1 = {}\n",
    "        self.old_dict_stock_price_2 = {}\n",
    "\n",
    "        # Initiate ratio array\n",
    "        self.ratio = np.zeros((len(stocks)+1))\n",
    "        self.ratio[0] = 1\n",
    "\n",
    "        # Load data file:\n",
    "        self.df = pd.read_csv(filepath)\n",
    "        \n",
    "        # Initiate Standard Scaler\n",
    "        self.standard_scaler = StandardScaler()\n",
    "\n",
    "        # Initiate reward\n",
    "        self.step_reward = 0\n",
    "        \n",
    "\n",
    "        return ts.restart(self._state)\n"
   ]
  },
  {
   "cell_type": "code",
   "execution_count": null,
   "metadata": {},
   "outputs": [],
   "source": []
  }
 ],
 "metadata": {
  "kernelspec": {
   "display_name": "Python 3",
   "language": "python",
   "name": "python3"
  },
  "language_info": {
   "codemirror_mode": {
    "name": "ipython",
    "version": 3
   },
   "file_extension": ".py",
   "mimetype": "text/x-python",
   "name": "python",
   "nbconvert_exporter": "python",
   "pygments_lexer": "ipython3",
   "version": "3.10.7"
  },
  "orig_nbformat": 4
 },
 "nbformat": 4,
 "nbformat_minor": 2
}
