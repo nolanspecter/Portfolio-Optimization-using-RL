{
 "cells": [
  {
   "cell_type": "code",
   "execution_count": 1,
   "metadata": {},
   "outputs": [],
   "source": [
    "import pandas as pd\n",
    "import yfinance as yf"
   ]
  },
  {
   "cell_type": "code",
   "execution_count": 2,
   "metadata": {},
   "outputs": [],
   "source": [
    "tickers = ['KO', 'T', 'JNJ']"
   ]
  },
  {
   "cell_type": "code",
   "execution_count": 3,
   "metadata": {},
   "outputs": [],
   "source": [
    "df = pd.DataFrame()"
   ]
  },
  {
   "cell_type": "code",
   "execution_count": 4,
   "metadata": {},
   "outputs": [
    {
     "name": "stdout",
     "output_type": "stream",
     "text": [
      "[*********************100%***********************]  1 of 1 completed\n",
      "[*********************100%***********************]  1 of 1 completed\n",
      "[*********************100%***********************]  1 of 1 completed\n"
     ]
    }
   ],
   "source": [
    "for ticker in tickers:\n",
    "    temp = yf.download(ticker,start='2003-07-01', end='2023-06-28')\n",
    "    temp['Ticker'] = ticker\n",
    "    df = pd.concat([df, temp])"
   ]
  },
  {
   "cell_type": "code",
   "execution_count": 9,
   "metadata": {},
   "outputs": [],
   "source": [
    "df.reset_index(inplace=True)"
   ]
  },
  {
   "cell_type": "code",
   "execution_count": 13,
   "metadata": {},
   "outputs": [],
   "source": [
    "df.sort_values(['Date', 'Ticker'],inplace=True)"
   ]
  },
  {
   "cell_type": "code",
   "execution_count": 14,
   "metadata": {},
   "outputs": [
    {
     "data": {
      "text/html": [
       "<div>\n",
       "<style scoped>\n",
       "    .dataframe tbody tr th:only-of-type {\n",
       "        vertical-align: middle;\n",
       "    }\n",
       "\n",
       "    .dataframe tbody tr th {\n",
       "        vertical-align: top;\n",
       "    }\n",
       "\n",
       "    .dataframe thead th {\n",
       "        text-align: right;\n",
       "    }\n",
       "</style>\n",
       "<table border=\"1\" class=\"dataframe\">\n",
       "  <thead>\n",
       "    <tr style=\"text-align: right;\">\n",
       "      <th></th>\n",
       "      <th>Open</th>\n",
       "      <th>High</th>\n",
       "      <th>Low</th>\n",
       "      <th>Close</th>\n",
       "      <th>Adj Close</th>\n",
       "      <th>Volume</th>\n",
       "      <th>Ticker</th>\n",
       "    </tr>\n",
       "    <tr>\n",
       "      <th>Date</th>\n",
       "      <th></th>\n",
       "      <th></th>\n",
       "      <th></th>\n",
       "      <th></th>\n",
       "      <th></th>\n",
       "      <th></th>\n",
       "      <th></th>\n",
       "    </tr>\n",
       "  </thead>\n",
       "  <tbody>\n",
       "    <tr>\n",
       "      <th>2003-07-01 00:00:00-04:00</th>\n",
       "      <td>51.700001</td>\n",
       "      <td>52.639999</td>\n",
       "      <td>51.490002</td>\n",
       "      <td>52.419998</td>\n",
       "      <td>30.183304</td>\n",
       "      <td>9099000</td>\n",
       "      <td>JNJ</td>\n",
       "    </tr>\n",
       "    <tr>\n",
       "      <th>2003-07-01 00:00:00-04:00</th>\n",
       "      <td>23.125000</td>\n",
       "      <td>23.320000</td>\n",
       "      <td>22.950001</td>\n",
       "      <td>23.245001</td>\n",
       "      <td>12.875499</td>\n",
       "      <td>11637800</td>\n",
       "      <td>KO</td>\n",
       "    </tr>\n",
       "    <tr>\n",
       "      <th>2003-07-01 00:00:00-04:00</th>\n",
       "      <td>19.297583</td>\n",
       "      <td>19.705439</td>\n",
       "      <td>19.244713</td>\n",
       "      <td>19.660122</td>\n",
       "      <td>4.624108</td>\n",
       "      <td>13712536</td>\n",
       "      <td>T</td>\n",
       "    </tr>\n",
       "    <tr>\n",
       "      <th>2003-07-02 00:00:00-04:00</th>\n",
       "      <td>52.160000</td>\n",
       "      <td>53.060001</td>\n",
       "      <td>52.150002</td>\n",
       "      <td>52.900002</td>\n",
       "      <td>30.459688</td>\n",
       "      <td>8393800</td>\n",
       "      <td>JNJ</td>\n",
       "    </tr>\n",
       "    <tr>\n",
       "      <th>2003-07-02 00:00:00-04:00</th>\n",
       "      <td>23.225000</td>\n",
       "      <td>23.260000</td>\n",
       "      <td>23.020000</td>\n",
       "      <td>23.190001</td>\n",
       "      <td>12.845037</td>\n",
       "      <td>8860000</td>\n",
       "      <td>KO</td>\n",
       "    </tr>\n",
       "    <tr>\n",
       "      <th>...</th>\n",
       "      <td>...</td>\n",
       "      <td>...</td>\n",
       "      <td>...</td>\n",
       "      <td>...</td>\n",
       "      <td>...</td>\n",
       "      <td>...</td>\n",
       "      <td>...</td>\n",
       "    </tr>\n",
       "    <tr>\n",
       "      <th>2023-06-26 00:00:00-04:00</th>\n",
       "      <td>61.209999</td>\n",
       "      <td>61.290001</td>\n",
       "      <td>60.389999</td>\n",
       "      <td>61.220001</td>\n",
       "      <td>61.220001</td>\n",
       "      <td>12856100</td>\n",
       "      <td>KO</td>\n",
       "    </tr>\n",
       "    <tr>\n",
       "      <th>2023-06-26 00:00:00-04:00</th>\n",
       "      <td>15.460000</td>\n",
       "      <td>15.650000</td>\n",
       "      <td>15.430000</td>\n",
       "      <td>15.630000</td>\n",
       "      <td>15.630000</td>\n",
       "      <td>28616600</td>\n",
       "      <td>T</td>\n",
       "    </tr>\n",
       "    <tr>\n",
       "      <th>2023-06-27 00:00:00-04:00</th>\n",
       "      <td>163.679993</td>\n",
       "      <td>163.880005</td>\n",
       "      <td>162.440002</td>\n",
       "      <td>163.289993</td>\n",
       "      <td>163.289993</td>\n",
       "      <td>4927500</td>\n",
       "      <td>JNJ</td>\n",
       "    </tr>\n",
       "    <tr>\n",
       "      <th>2023-06-27 00:00:00-04:00</th>\n",
       "      <td>61.220001</td>\n",
       "      <td>61.360001</td>\n",
       "      <td>60.980000</td>\n",
       "      <td>61.090000</td>\n",
       "      <td>61.090000</td>\n",
       "      <td>9068500</td>\n",
       "      <td>KO</td>\n",
       "    </tr>\n",
       "    <tr>\n",
       "      <th>2023-06-27 00:00:00-04:00</th>\n",
       "      <td>15.550000</td>\n",
       "      <td>15.890000</td>\n",
       "      <td>15.530000</td>\n",
       "      <td>15.840000</td>\n",
       "      <td>15.840000</td>\n",
       "      <td>31457000</td>\n",
       "      <td>T</td>\n",
       "    </tr>\n",
       "  </tbody>\n",
       "</table>\n",
       "<p>15096 rows × 7 columns</p>\n",
       "</div>"
      ],
      "text/plain": [
       "                                 Open        High         Low       Close  \\\n",
       "Date                                                                        \n",
       "2003-07-01 00:00:00-04:00   51.700001   52.639999   51.490002   52.419998   \n",
       "2003-07-01 00:00:00-04:00   23.125000   23.320000   22.950001   23.245001   \n",
       "2003-07-01 00:00:00-04:00   19.297583   19.705439   19.244713   19.660122   \n",
       "2003-07-02 00:00:00-04:00   52.160000   53.060001   52.150002   52.900002   \n",
       "2003-07-02 00:00:00-04:00   23.225000   23.260000   23.020000   23.190001   \n",
       "...                               ...         ...         ...         ...   \n",
       "2023-06-26 00:00:00-04:00   61.209999   61.290001   60.389999   61.220001   \n",
       "2023-06-26 00:00:00-04:00   15.460000   15.650000   15.430000   15.630000   \n",
       "2023-06-27 00:00:00-04:00  163.679993  163.880005  162.440002  163.289993   \n",
       "2023-06-27 00:00:00-04:00   61.220001   61.360001   60.980000   61.090000   \n",
       "2023-06-27 00:00:00-04:00   15.550000   15.890000   15.530000   15.840000   \n",
       "\n",
       "                            Adj Close    Volume Ticker  \n",
       "Date                                                    \n",
       "2003-07-01 00:00:00-04:00   30.183304   9099000    JNJ  \n",
       "2003-07-01 00:00:00-04:00   12.875499  11637800     KO  \n",
       "2003-07-01 00:00:00-04:00    4.624108  13712536      T  \n",
       "2003-07-02 00:00:00-04:00   30.459688   8393800    JNJ  \n",
       "2003-07-02 00:00:00-04:00   12.845037   8860000     KO  \n",
       "...                               ...       ...    ...  \n",
       "2023-06-26 00:00:00-04:00   61.220001  12856100     KO  \n",
       "2023-06-26 00:00:00-04:00   15.630000  28616600      T  \n",
       "2023-06-27 00:00:00-04:00  163.289993   4927500    JNJ  \n",
       "2023-06-27 00:00:00-04:00   61.090000   9068500     KO  \n",
       "2023-06-27 00:00:00-04:00   15.840000  31457000      T  \n",
       "\n",
       "[15096 rows x 7 columns]"
      ]
     },
     "execution_count": 14,
     "metadata": {},
     "output_type": "execute_result"
    }
   ],
   "source": [
    "df.set_index('Date')"
   ]
  },
  {
   "cell_type": "code",
   "execution_count": 15,
   "metadata": {},
   "outputs": [],
   "source": [
    "df.to_csv('raw_data.csv')\n",
    "# df"
   ]
  },
  {
   "cell_type": "code",
   "execution_count": null,
   "metadata": {},
   "outputs": [],
   "source": []
  }
 ],
 "metadata": {
  "kernelspec": {
   "display_name": "Python 3",
   "language": "python",
   "name": "python3"
  },
  "language_info": {
   "codemirror_mode": {
    "name": "ipython",
    "version": 3
   },
   "file_extension": ".py",
   "mimetype": "text/x-python",
   "name": "python",
   "nbconvert_exporter": "python",
   "pygments_lexer": "ipython3",
   "version": "3.10.7"
  },
  "orig_nbformat": 4
 },
 "nbformat": 4,
 "nbformat_minor": 2
}
