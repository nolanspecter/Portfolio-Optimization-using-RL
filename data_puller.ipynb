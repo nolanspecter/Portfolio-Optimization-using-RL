{
 "cells": [
  {
   "cell_type": "code",
   "execution_count": 11,
   "metadata": {},
   "outputs": [],
   "source": [
    "import pandas as pd\n",
    "import yfinance as yf"
   ]
  },
  {
   "cell_type": "code",
   "execution_count": 12,
   "metadata": {},
   "outputs": [],
   "source": [
    "tickers = ['KO', 'T', 'JNJ']"
   ]
  },
  {
   "cell_type": "code",
   "execution_count": 13,
   "metadata": {},
   "outputs": [],
   "source": [
    "df = pd.DataFrame()"
   ]
  },
  {
   "cell_type": "code",
   "execution_count": 14,
   "metadata": {},
   "outputs": [
    {
     "name": "stdout",
     "output_type": "stream",
     "text": [
      "[*********************100%***********************]  1 of 1 completed\n",
      "[*********************100%***********************]  1 of 1 completed\n",
      "[*********************100%***********************]  1 of 1 completed\n"
     ]
    }
   ],
   "source": [
    "for ticker in tickers:\n",
    "    temp = yf.download(ticker,start='2003-04-01', end='2023-06-30')\n",
    "    temp['Ticker'] = ticker\n",
    "    df = pd.concat([df, temp])"
   ]
  },
  {
   "cell_type": "code",
   "execution_count": 15,
   "metadata": {},
   "outputs": [],
   "source": [
    "df.reset_index(inplace=True)"
   ]
  },
  {
   "cell_type": "code",
   "execution_count": 16,
   "metadata": {},
   "outputs": [],
   "source": [
    "df.sort_values(['Date', 'Ticker'],inplace=True)"
   ]
  },
  {
   "cell_type": "code",
   "execution_count": 17,
   "metadata": {},
   "outputs": [
    {
     "data": {
      "text/html": [
       "<div>\n",
       "<style scoped>\n",
       "    .dataframe tbody tr th:only-of-type {\n",
       "        vertical-align: middle;\n",
       "    }\n",
       "\n",
       "    .dataframe tbody tr th {\n",
       "        vertical-align: top;\n",
       "    }\n",
       "\n",
       "    .dataframe thead th {\n",
       "        text-align: right;\n",
       "    }\n",
       "</style>\n",
       "<table border=\"1\" class=\"dataframe\">\n",
       "  <thead>\n",
       "    <tr style=\"text-align: right;\">\n",
       "      <th></th>\n",
       "      <th>Open</th>\n",
       "      <th>High</th>\n",
       "      <th>Low</th>\n",
       "      <th>Close</th>\n",
       "      <th>Adj Close</th>\n",
       "      <th>Volume</th>\n",
       "      <th>Ticker</th>\n",
       "    </tr>\n",
       "    <tr>\n",
       "      <th>Date</th>\n",
       "      <th></th>\n",
       "      <th></th>\n",
       "      <th></th>\n",
       "      <th></th>\n",
       "      <th></th>\n",
       "      <th></th>\n",
       "      <th></th>\n",
       "    </tr>\n",
       "  </thead>\n",
       "  <tbody>\n",
       "    <tr>\n",
       "      <th>2003-04-01 00:00:00-05:00</th>\n",
       "      <td>57.869999</td>\n",
       "      <td>58.599998</td>\n",
       "      <td>57.680000</td>\n",
       "      <td>58.419998</td>\n",
       "      <td>33.492470</td>\n",
       "      <td>7793200</td>\n",
       "      <td>JNJ</td>\n",
       "    </tr>\n",
       "    <tr>\n",
       "      <th>2003-04-01 00:00:00-05:00</th>\n",
       "      <td>20.250000</td>\n",
       "      <td>20.290001</td>\n",
       "      <td>19.940001</td>\n",
       "      <td>20.195000</td>\n",
       "      <td>11.133285</td>\n",
       "      <td>13867600</td>\n",
       "      <td>KO</td>\n",
       "    </tr>\n",
       "    <tr>\n",
       "      <th>2003-04-01 00:00:00-05:00</th>\n",
       "      <td>15.483384</td>\n",
       "      <td>16.389729</td>\n",
       "      <td>15.407855</td>\n",
       "      <td>16.148035</td>\n",
       "      <td>3.721630</td>\n",
       "      <td>24207619</td>\n",
       "      <td>T</td>\n",
       "    </tr>\n",
       "    <tr>\n",
       "      <th>2003-04-02 00:00:00-05:00</th>\n",
       "      <td>58.270000</td>\n",
       "      <td>58.680000</td>\n",
       "      <td>57.779999</td>\n",
       "      <td>58.410000</td>\n",
       "      <td>33.486736</td>\n",
       "      <td>8450400</td>\n",
       "      <td>JNJ</td>\n",
       "    </tr>\n",
       "    <tr>\n",
       "      <th>2003-04-02 00:00:00-05:00</th>\n",
       "      <td>20.575001</td>\n",
       "      <td>20.865000</td>\n",
       "      <td>20.500000</td>\n",
       "      <td>20.725000</td>\n",
       "      <td>11.425461</td>\n",
       "      <td>10338600</td>\n",
       "      <td>KO</td>\n",
       "    </tr>\n",
       "    <tr>\n",
       "      <th>...</th>\n",
       "      <td>...</td>\n",
       "      <td>...</td>\n",
       "      <td>...</td>\n",
       "      <td>...</td>\n",
       "      <td>...</td>\n",
       "      <td>...</td>\n",
       "      <td>...</td>\n",
       "    </tr>\n",
       "    <tr>\n",
       "      <th>2023-06-28 00:00:00-04:00</th>\n",
       "      <td>60.880001</td>\n",
       "      <td>61.040001</td>\n",
       "      <td>60.400002</td>\n",
       "      <td>60.520000</td>\n",
       "      <td>60.520000</td>\n",
       "      <td>11173200</td>\n",
       "      <td>KO</td>\n",
       "    </tr>\n",
       "    <tr>\n",
       "      <th>2023-06-28 00:00:00-04:00</th>\n",
       "      <td>15.810000</td>\n",
       "      <td>15.840000</td>\n",
       "      <td>15.610000</td>\n",
       "      <td>15.780000</td>\n",
       "      <td>15.780000</td>\n",
       "      <td>26156400</td>\n",
       "      <td>T</td>\n",
       "    </tr>\n",
       "    <tr>\n",
       "      <th>2023-06-29 00:00:00-04:00</th>\n",
       "      <td>162.639999</td>\n",
       "      <td>164.320007</td>\n",
       "      <td>162.229996</td>\n",
       "      <td>164.100006</td>\n",
       "      <td>164.100006</td>\n",
       "      <td>4547500</td>\n",
       "      <td>JNJ</td>\n",
       "    </tr>\n",
       "    <tr>\n",
       "      <th>2023-06-29 00:00:00-04:00</th>\n",
       "      <td>60.220001</td>\n",
       "      <td>60.349998</td>\n",
       "      <td>59.770000</td>\n",
       "      <td>60.020000</td>\n",
       "      <td>60.020000</td>\n",
       "      <td>17142300</td>\n",
       "      <td>KO</td>\n",
       "    </tr>\n",
       "    <tr>\n",
       "      <th>2023-06-29 00:00:00-04:00</th>\n",
       "      <td>15.740000</td>\n",
       "      <td>16.010000</td>\n",
       "      <td>15.740000</td>\n",
       "      <td>15.980000</td>\n",
       "      <td>15.980000</td>\n",
       "      <td>27298300</td>\n",
       "      <td>T</td>\n",
       "    </tr>\n",
       "  </tbody>\n",
       "</table>\n",
       "<p>15291 rows × 7 columns</p>\n",
       "</div>"
      ],
      "text/plain": [
       "                                 Open        High         Low       Close  \\\n",
       "Date                                                                        \n",
       "2003-04-01 00:00:00-05:00   57.869999   58.599998   57.680000   58.419998   \n",
       "2003-04-01 00:00:00-05:00   20.250000   20.290001   19.940001   20.195000   \n",
       "2003-04-01 00:00:00-05:00   15.483384   16.389729   15.407855   16.148035   \n",
       "2003-04-02 00:00:00-05:00   58.270000   58.680000   57.779999   58.410000   \n",
       "2003-04-02 00:00:00-05:00   20.575001   20.865000   20.500000   20.725000   \n",
       "...                               ...         ...         ...         ...   \n",
       "2023-06-28 00:00:00-04:00   60.880001   61.040001   60.400002   60.520000   \n",
       "2023-06-28 00:00:00-04:00   15.810000   15.840000   15.610000   15.780000   \n",
       "2023-06-29 00:00:00-04:00  162.639999  164.320007  162.229996  164.100006   \n",
       "2023-06-29 00:00:00-04:00   60.220001   60.349998   59.770000   60.020000   \n",
       "2023-06-29 00:00:00-04:00   15.740000   16.010000   15.740000   15.980000   \n",
       "\n",
       "                            Adj Close    Volume Ticker  \n",
       "Date                                                    \n",
       "2003-04-01 00:00:00-05:00   33.492470   7793200    JNJ  \n",
       "2003-04-01 00:00:00-05:00   11.133285  13867600     KO  \n",
       "2003-04-01 00:00:00-05:00    3.721630  24207619      T  \n",
       "2003-04-02 00:00:00-05:00   33.486736   8450400    JNJ  \n",
       "2003-04-02 00:00:00-05:00   11.425461  10338600     KO  \n",
       "...                               ...       ...    ...  \n",
       "2023-06-28 00:00:00-04:00   60.520000  11173200     KO  \n",
       "2023-06-28 00:00:00-04:00   15.780000  26156400      T  \n",
       "2023-06-29 00:00:00-04:00  164.100006   4547500    JNJ  \n",
       "2023-06-29 00:00:00-04:00   60.020000  17142300     KO  \n",
       "2023-06-29 00:00:00-04:00   15.980000  27298300      T  \n",
       "\n",
       "[15291 rows x 7 columns]"
      ]
     },
     "execution_count": 17,
     "metadata": {},
     "output_type": "execute_result"
    }
   ],
   "source": [
    "df.set_index('Date')"
   ]
  },
  {
   "cell_type": "code",
   "execution_count": 18,
   "metadata": {},
   "outputs": [],
   "source": [
    "df.to_csv('raw_data.csv')\n",
    "# df"
   ]
  },
  {
   "cell_type": "code",
   "execution_count": null,
   "metadata": {},
   "outputs": [],
   "source": []
  },
  {
   "cell_type": "code",
   "execution_count": null,
   "metadata": {},
   "outputs": [],
   "source": []
  }
 ],
 "metadata": {
  "kernelspec": {
   "display_name": "Python 3",
   "language": "python",
   "name": "python3"
  },
  "language_info": {
   "codemirror_mode": {
    "name": "ipython",
    "version": 3
   },
   "file_extension": ".py",
   "mimetype": "text/x-python",
   "name": "python",
   "nbconvert_exporter": "python",
   "pygments_lexer": "ipython3",
   "version": "3.10.7"
  },
  "orig_nbformat": 4
 },
 "nbformat": 4,
 "nbformat_minor": 2
}
